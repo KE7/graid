{
 "cells": [
  {
   "cell_type": "code",
   "execution_count": null,
   "metadata": {},
   "outputs": [],
   "source": [
    "from itertools import islice\n",
    "from scenic_reasoning.data.ImageLoader import Bdd100kDataset\n",
    "from scenic_reasoning.models.UltralyticsYolo import Yolo\n",
    "from scenic_reasoning.measurements.ObjectDetection import ObjectDetectionMeasurements\n",
    "from scenic_reasoning.utilities.common import get_default_device\n",
    "import torch\n",
    "from ultralytics.data.augment import LetterBox"
   ]
  },
  {
   "cell_type": "code",
   "execution_count": 10,
   "metadata": {},
   "outputs": [],
   "source": [
    "NUM_EXAMPLES_TO_SHOW = 3\n",
    "BATCH_SIZE = 1 # > 1 is not working yet"
   ]
  },
  {
   "cell_type": "code",
   "execution_count": 4,
   "metadata": {},
   "outputs": [],
   "source": [
    "shape_transform = LetterBox(new_shape=(768, 1280))\n",
    "def transform_image_for_yolo(image : torch.Tensor):\n",
    "    # 1) convert from tensor to cv2 image\n",
    "    image_np  = image.permute(1, 2, 0).numpy()\n",
    "    # 2) resize to 768x1280\n",
    "    image_np = shape_transform(image=image_np)\n",
    "    # 3) convert back to tensor\n",
    "    image = torch.tensor(image_np).permute(2, 0, 1)\n",
    "    # 4) normalize to 0-1\n",
    "    image = image.to(torch.float32) / 255.0\n",
    "\n",
    "    return image"
   ]
  },
  {
   "cell_type": "code",
   "execution_count": 11,
   "metadata": {},
   "outputs": [
    {
     "name": "stdout",
     "output_type": "stream",
     "text": [
      "\n",
      "0: 768x1280 22 cars, 1 bus, 1 truck, 6 traffic lights, 99.6ms\n",
      "Speed: 0.0ms preprocess, 99.6ms inference, 15.1ms postprocess per image at shape (1, 3, 768, 1280)\n",
      "[{'ap_per_class': {'bus': 0,\n",
      "                   'car': 0.14634146341463414,\n",
      "                   'motorcycle': 0,\n",
      "                   'rider': 0,\n",
      "                   'traffic light': 0,\n",
      "                   'traffic sign': 0,\n",
      "                   'truck': 0},\n",
      "  'f1': 0,\n",
      "  'false_negatives': 7,\n",
      "  'false_positives': 6,\n",
      "  'mAP': 0.020905923344947733,\n",
      "  'precision': 0.0,\n",
      "  'recall': 0.0,\n",
      "  'true_positives': 0}]\n",
      "\n",
      "0: 768x1280 3 cars, 1 traffic light, 108.4ms\n",
      "Speed: 0.0ms preprocess, 108.4ms inference, 14.1ms postprocess per image at shape (1, 3, 768, 1280)\n",
      "[{'ap_per_class': {'car': 0, 'traffic light': 0, 'traffic sign': 0},\n",
      "  'f1': 0,\n",
      "  'false_negatives': 2,\n",
      "  'false_positives': 3,\n",
      "  'mAP': 0.0,\n",
      "  'precision': 0.0,\n",
      "  'recall': 0.0,\n",
      "  'true_positives': 0}]\n",
      "\n",
      "0: 768x1280 7 cars, 1 truck, 114.9ms\n",
      "Speed: 0.0ms preprocess, 114.9ms inference, 9.7ms postprocess per image at shape (1, 3, 768, 1280)\n",
      "[{'ap_per_class': {'car': 0, 'traffic sign': 0, 'truck': 0},\n",
      "  'f1': 0,\n",
      "  'false_negatives': 11,\n",
      "  'false_positives': 7,\n",
      "  'mAP': 0.0,\n",
      "  'precision': 0.0,\n",
      "  'recall': 0.0,\n",
      "  'true_positives': 0}]\n"
     ]
    }
   ],
   "source": [
    "bdd = Bdd100kDataset(split=\"val\", transform=transform_image_for_yolo) # YOLO requires images to be 640x640 but BDD100K images are 720x1280\n",
    "# https://docs.ultralytics.com/models/yolov5/#performance-metrics\n",
    "model = Yolo(model=\"../yolov5x6u.pt\") # v5 can handle 1280 while v8 can handle 640. makes no sense ><\n",
    "measurements = ObjectDetectionMeasurements(model, bdd, batch_size=BATCH_SIZE, collate_fn=lambda x: x) # hacky way to avoid RuntimeError: each element in list of batch should be of equal size\n",
    "\n",
    "# WARNING ⚠️ imgsz=[720, 1280] must be multiple of max stride 64, updating to [768, 1280]\n",
    "from pprint import pprint\n",
    "for results in islice(measurements.iter_measurements(\n",
    "        device=get_default_device(), \n",
    "        imgsz=[768, 1280],\n",
    "        bbox_offset=24,\n",
    "        debug=True,\n",
    "        conf=0.1,\n",
    "        ), \n",
    "    NUM_EXAMPLES_TO_SHOW):\n",
    "    pprint(results)"
   ]
  }
 ],
 "metadata": {
  "kernelspec": {
   "display_name": "mmdect",
   "language": "python",
   "name": "python3"
  },
  "language_info": {
   "codemirror_mode": {
    "name": "ipython",
    "version": 3
   },
   "file_extension": ".py",
   "mimetype": "text/x-python",
   "name": "python",
   "nbconvert_exporter": "python",
   "pygments_lexer": "ipython3",
   "version": "3.9.20"
  }
 },
 "nbformat": 4,
 "nbformat_minor": 2
}
