{
 "cells": [
  {
   "cell_type": "code",
   "execution_count": null,
   "metadata": {},
   "outputs": [],
   "source": [
    "import os\n",
    "from graid.setup import PROJECT_DIR\n",
    "\n",
    "# create data directory\n",
    "data_dir = os.path.join(PROJECT_DIR, \"data\")\n",
    "os.makedirs(data_dir, exist_ok=True)"
   ]
  },
  {
   "cell_type": "code",
   "execution_count": null,
   "metadata": {},
   "outputs": [],
   "source": [
    "# all data is located at https://dl.cv.ethz.ch/bdd100k/data/\n",
    "# and is described in https://doc.bdd100k.com/download.html\n",
    "\n",
    "# Berkeley Deep Drive 100k dataset\n",
    "#   This is the 10k images subset which is only used for:\n",
    "#      semantic segmentation, instance segmentation and panoptic segmentation\n",
    "\n",
    "# until we get there, we will have to revist this at a later time\n",
    "# !wget https://dl.cv.ethz.ch/bdd100k/data/10k_images_val.zip -P {data_dir}\n",
    "# !unzip {data_dir}/10k_images_val.zip -d {data_dir}\n",
    "# !rm {data_dir}/10k_images_val.zip\n",
    "# !mv {data_dir}/10k_images_val {data_dir}/bdd100k/images/10k_val"
   ]
  },
  {
   "cell_type": "code",
   "execution_count": null,
   "metadata": {},
   "outputs": [],
   "source": [
    "# The 100k images subset is used for:\n",
    "#   object detection, drivable area, lane marking.\n",
    "\n",
    "!wget https://dl.cv.ethz.ch/bdd100k/data/100k_images_val.zip\n",
    "!unzip 100k_images_val.zip -d {data_dir}\n",
    "!rm 100k_images_val.zip\n",
    "!mv {data_dir}/100k_images_val {data_dir}/bdd100k/images/100k_val"
   ]
  },
  {
   "cell_type": "code",
   "execution_count": null,
   "metadata": {},
   "outputs": [],
   "source": [
    "# download labels from https://dl.cv.ethz.ch/bdd100k/data/bdd100k_det_20_labels_trainval.zip\n",
    "!wget https://dl.cv.ethz.ch/bdd100k/data/bdd100k_det_20_labels_trainval.zip -P {data_dir}\n",
    "!unzip {data_dir}/bdd100k_det_20_labels_trainval.zip -d {data_dir}\n",
    "!rm {data_dir}/bdd100k_det_20_labels_trainval.zip\n",
    "!mv {data_dir}/bdd100k_det_20_labels_trainval {data_dir}/bdd100k/labels/det_20"
   ]
  },
  {
   "cell_type": "code",
   "execution_count": null,
   "metadata": {},
   "outputs": [],
   "source": [
    "!wget https://dl.cv.ethz.ch/bdd100k/data/bdd100k_ins_seg_labels_trainval.zip -P {data_dir}\n",
    "!unzip {data_dir}/bdd100k_ins_seg_labels_trainval.zip -d {data_dir}\n",
    "!rm {data_dir}/bdd100k_ins_seg_labels_trainval.zip\n",
    "!mv {data_dir}/bdd100k_ins_seg_labels_trainval {data_dir}/bdd100k/labels/ins_seg"
   ]
  },
  {
   "cell_type": "code",
   "execution_count": null,
   "metadata": {},
   "outputs": [],
   "source": []
  }
 ],
 "metadata": {
  "kernelspec": {
   "display_name": "mmdect",
   "language": "python",
   "name": "python3"
  },
  "language_info": {
   "codemirror_mode": {
    "name": "ipython",
    "version": 3
   },
   "file_extension": ".py",
   "mimetype": "text/x-python",
   "name": "python",
   "nbconvert_exporter": "python",
   "pygments_lexer": "ipython3",
   "version": "3.9.21"
  }
 },
 "nbformat": 4,
 "nbformat_minor": 2
}
