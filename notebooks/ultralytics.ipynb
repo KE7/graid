{
 "cells": [
  {
   "cell_type": "code",
   "execution_count": null,
   "metadata": {},
   "outputs": [],
   "source": [
    "from ultralytics import YOLO\n",
    "\n",
    "model = YOLO('yolov8x.pt')  # Load a pretrained YOLOv8 model\n",
    "model.info()"
   ]
  },
  {
   "cell_type": "code",
   "execution_count": null,
   "metadata": {},
   "outputs": [],
   "source": [
    "image_path = '/Users/ke/Documents/Cal/research/physical-reasoning/demo/demo.jpg'\n",
    "results = model(image_path)\n",
    "\n",
    "for result in results:\n",
    "    boxes = result.boxes\n",
    "    names = result.names\n",
    "    \n",
    "    for box in boxes:\n",
    "        name = int(box.cls)\n",
    "        confidence = float(box.conf)\n",
    "        coord = box.xyxy # tensor of (x1, y1, x2, y2)\n",
    "        print(f\"Predicted {names[name]} with confidence {confidence:.3f} at {coord}\")\n",
    "\n",
    "tensor = results[0].plot()\n",
    "# show the tensor as an image\n",
    "from PIL import Image\n",
    "\n",
    "# convert tensor from BGR to RGB\n",
    "tensor = tensor[:, :, ::-1]\n",
    "\n",
    "img = Image.fromarray(tensor, mode='RGB')\n",
    "img"
   ]
  }
 ],
 "metadata": {
  "kernelspec": {
   "display_name": "mmdect",
   "language": "python",
   "name": "python3"
  },
  "language_info": {
   "codemirror_mode": {
    "name": "ipython",
    "version": 3
   },
   "file_extension": ".py",
   "mimetype": "text/x-python",
   "name": "python",
   "nbconvert_exporter": "python",
   "pygments_lexer": "ipython3",
   "version": "3.9.20"
  }
 },
 "nbformat": 4,
 "nbformat_minor": 2
}
