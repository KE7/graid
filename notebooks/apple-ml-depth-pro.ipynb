{
 "cells": [
  {
   "cell_type": "code",
   "execution_count": null,
   "metadata": {},
   "outputs": [],
   "source": [
    "!git clone https://github.com/apple/ml-depth-pro\n",
    "!cd ml-depth-pro && pip install -e ."
   ]
  },
  {
   "cell_type": "code",
   "execution_count": null,
   "metadata": {},
   "outputs": [],
   "source": [
    "!source ml-depth-pro/get_pretrained_models.sh"
   ]
  },
  {
   "cell_type": "code",
   "execution_count": null,
   "metadata": {},
   "outputs": [],
   "source": [
    "from PIL import Image\n",
    "import torch\n",
    "import depth_pro\n",
    "\n",
    "depth_pro.depth_pro.DEFAULT_MONODEPTH_CONFIG_DICT.checkpoint_uri = \"../checkpoints/depth_pro.pt\"\n",
    "\n",
    "model, transform = depth_pro.create_model_and_transforms(\n",
    "    device=torch.device(\"mps\")\n",
    ")\n",
    "model.eval()\n",
    "\n",
    "image, _, f_px = depth_pro.load_rgb(\"../demo/demo.jpg\")\n",
    "image = transform(image)\n",
    "\n",
    "prediction = model.infer(image, f_px=f_px)\n",
    "depth = prediction[\"depth\"] # depth in [m]\n",
    "depth"
   ]
  },
  {
   "cell_type": "code",
   "execution_count": null,
   "metadata": {},
   "outputs": [],
   "source": [
    "import PIL\n",
    "from matplotlib import pyplot as plt\n",
    "import numpy as np\n",
    "\n",
    "\n",
    "def visualize_inverse_depth(depth: torch.Tensor) -> PIL.Image.Image:\n",
    "    inverse_depth = 1 / depth\n",
    "    # Visualize inverse depth instead of depth, clipped to [0.1m;250m] range for better visualization.\n",
    "    max_invdepth_vizu = min(inverse_depth.max(), 1 / 0.1)\n",
    "    min_invdepth_vizu = max(1 / 250, inverse_depth.min())\n",
    "    inverse_depth_normalized = (inverse_depth - min_invdepth_vizu) / (\n",
    "        max_invdepth_vizu - min_invdepth_vizu\n",
    "    )\n",
    "    cmap = plt.get_cmap(\"turbo\")\n",
    "    color_depth = (cmap(inverse_depth_normalized)[..., :3] * 255).astype(\n",
    "        np.uint8\n",
    "    )\n",
    "\n",
    "    return PIL.Image.fromarray(color_depth)"
   ]
  },
  {
   "cell_type": "code",
   "execution_count": null,
   "metadata": {},
   "outputs": [],
   "source": [
    "visual_depth = visualize_inverse_depth(depth.cpu())\n",
    "\n",
    "plt.imshow(visual_depth)"
   ]
  },
  {
   "cell_type": "code",
   "execution_count": null,
   "metadata": {},
   "outputs": [],
   "source": [
    "focallength_px = prediction[\"focallength_px\"] # focal length in pixels\n",
    "focallength_px"
   ]
  }
 ],
 "metadata": {
  "kernelspec": {
   "display_name": "mmdect",
   "language": "python",
   "name": "python3"
  },
  "language_info": {
   "codemirror_mode": {
    "name": "ipython",
    "version": 3
   },
   "file_extension": ".py",
   "mimetype": "text/x-python",
   "name": "python",
   "nbconvert_exporter": "python",
   "pygments_lexer": "ipython3",
   "version": "3.9.20"
  }
 },
 "nbformat": 4,
 "nbformat_minor": 2
}
