{
 "cells": [
  {
   "cell_type": "markdown",
   "metadata": {
    "id": "U0zzem2xMRft"
   },
   "source": []
  },
  {
   "cell_type": "code",
   "execution_count": null,
   "metadata": {
    "colab": {
     "base_uri": "https://localhost:8080/"
    },
    "id": "E9uu-ittRCsV",
    "outputId": "433e3632-6aa4-4e5a-a398-d78794dc2829"
   },
   "outputs": [],
   "source": [
    "!nvidia-smi"
   ]
  },
  {
   "cell_type": "code",
   "execution_count": null,
   "metadata": {
    "colab": {
     "base_uri": "https://localhost:8080/"
    },
    "id": "q-dMydwMFI5k",
    "outputId": "20bba908-cfb7-4e80-c93a-ea412aab2f27"
   },
   "outputs": [],
   "source": [
    "!wget https://dl.cv.ethz.ch/bdd100k/data/100k_images_test.zip\n",
    "!wget https://dl.cv.ethz.ch/bdd100k/data/100k_images_test.zip.md5"
   ]
  },
  {
   "cell_type": "code",
   "execution_count": null,
   "metadata": {
    "colab": {
     "base_uri": "https://localhost:8080/"
    },
    "id": "G_KroO8tGb21",
    "outputId": "a9d10a8f-8ad7-484b-f06d-a48fd1a960f8"
   },
   "outputs": [],
   "source": [
    "import zipfile\n",
    "import os\n",
    "import numpy as np\n",
    "# Extract the zip file\n",
    "with zipfile.ZipFile('100k_images_test.zip', 'r') as zip_ref:\n",
    "  zip_ref.extractall('/content/images')\n",
    "\n",
    "with open('100k_images_test.zip.md5', 'r') as f:\n",
    "  md5_checksums = f.read()\n",
    "print(md5_checksums) # This will print the contents of the file.\n",
    "\n",
    "image_files = []\n",
    "for root, dirs, files in os.walk('/content/images'):\n",
    "  for file in files:\n",
    "    image_files.append(os.path.join(root, file))\n",
    "\n",
    "print(image_files)"
   ]
  },
  {
   "cell_type": "markdown",
   "metadata": {
    "id": "dr0Cl6TLFxH2"
   },
   "source": []
  },
  {
   "cell_type": "markdown",
   "metadata": {
    "id": "zGfKoPu3JH2m"
   },
   "source": [
    "\n",
    "# ** Test out different models on BDD dataset for inference **"
   ]
  },
  {
   "cell_type": "markdown",
   "metadata": {
    "id": "O3jaacMKJU0v"
   },
   "source": [
    "**Detectron2**"
   ]
  },
  {
   "cell_type": "code",
   "execution_count": null,
   "metadata": {
    "colab": {
     "base_uri": "https://localhost:8080/"
    },
    "id": "--gNSFkUJcRf",
    "outputId": "5164a736-9f86-4c65-a4c4-f48285bb3df9"
   },
   "outputs": [],
   "source": [
    "!python -m pip install pyyaml==5.1\n",
    "# Detectron2 has not released pre-built binaries for the latest pytorch (https://github.com/facebookresearch/detectron2/issues/4053)\n",
    "# so we install from source instead. This takes a few minutes.d\n",
    "!python -m pip install 'git+https://github.com/facebookresearch/detectron2.git'\n",
    "\n",
    "# Install pre-built detectron2 that matches pytorch version, if released:\n",
    "# See https://detectron2.readthedocs.io/tutorials/install.html for instructions\n",
    "#!pip install detectron2 -f https://dl.fbaipublicfiles.com/detectron2/wheels/{CUDA_VERSION}/{TORCH_VERSION}/index.html\n",
    "\n",
    "# exit(0)  # After installation, you may need to \"restart runtime\" in Colab. This line can also restart runtime"
   ]
  },
  {
   "cell_type": "code",
   "execution_count": null,
   "metadata": {
    "colab": {
     "base_uri": "https://localhost:8080/"
    },
    "id": "XP_uiPkMJcRf",
    "outputId": "efcb26ab-d3fc-49f4-f68a-dcd1b2bdd825"
   },
   "outputs": [],
   "source": [
    "import torch, detectron2\n",
    "!nvcc --version\n",
    "TORCH_VERSION = \".\".join(torch.__version__.split(\".\")[:2])\n",
    "CUDA_VERSION = torch.__version__.split(\"+\")[-1]\n",
    "print(\"torch: \", TORCH_VERSION, \"; cuda: \", CUDA_VERSION)\n",
    "print(\"detectron2:\", detectron2.__version__)"
   ]
  },
  {
   "cell_type": "code",
   "execution_count": null,
   "metadata": {
    "id": "5aXuGLfhC2Ms"
   },
   "outputs": [],
   "source": [
    "# Setup detectron2 logger\n",
    "import detectron2\n",
    "from detectron2.utils.logger import setup_logger\n",
    "setup_logger()\n",
    "\n",
    "# import some common libraries\n",
    "import matplotlib.pyplot as plt\n",
    "import cv2\n",
    "\n",
    "# import some common detectron2 utilities\n",
    "from detectron2 import model_zoo\n",
    "from detectron2.engine import DefaultPredictor\n",
    "from detectron2.config import get_cfg\n",
    "from detectron2.utils.visualizer import Visualizer\n",
    "from detectron2.data import MetadataCatalog"
   ]
  },
  {
   "cell_type": "code",
   "execution_count": null,
   "metadata": {
    "colab": {
     "base_uri": "https://localhost:8080/",
     "height": 380
    },
    "id": "0I0o13zFC34w",
    "outputId": "aaa24e83-c389-430a-b19d-1c663946aad5"
   },
   "outputs": [],
   "source": [
    "# select a single random image from the dataset\n",
    "selected_img = image_files[np.random.choice(len(image_files), 1, replace=False)[0]]\n",
    "print(selected_img)\n",
    "im = cv2.imread(selected_img)\n",
    "plt.imshow(cv2.cvtColor(im, cv2.COLOR_BGR2RGB))"
   ]
  },
  {
   "cell_type": "code",
   "execution_count": null,
   "metadata": {
    "id": "uMXE-CBpC4TT"
   },
   "outputs": [],
   "source": [
    "cfg = get_cfg()\n",
    "cfg.merge_from_file(model_zoo.get_config_file(\"COCO-InstanceSegmentation/mask_rcnn_R_50_FPN_3x.yaml\"))\n",
    "cfg.MODEL.ROI_HEADS.SCORE_THRESH_TEST = 0.5  # set threshold for this model\n",
    "cfg.MODEL.WEIGHTS = model_zoo.get_checkpoint_url(\"COCO-InstanceSegmentation/mask_rcnn_R_50_FPN_3x.yaml\")"
   ]
  },
  {
   "cell_type": "code",
   "execution_count": null,
   "metadata": {
    "colab": {
     "base_uri": "https://localhost:8080/"
    },
    "id": "qV6aXionFJGU",
    "outputId": "47748320-6568-47c9-8e0a-d77cec6cb394"
   },
   "outputs": [],
   "source": [
    "# Create predictor\n",
    "predictor = DefaultPredictor(cfg)\n",
    "\n",
    "# Make prediction\n",
    "outputs = predictor(im)"
   ]
  },
  {
   "cell_type": "code",
   "execution_count": null,
   "metadata": {
    "colab": {
     "base_uri": "https://localhost:8080/",
     "height": 693
    },
    "id": "1VwcjRQIDIvB",
    "outputId": "ba585b84-2dc8-48b8-d21b-534f96dce5ce"
   },
   "outputs": [],
   "source": [
    "v = Visualizer(im[:, :, ::-1], MetadataCatalog.get(cfg.DATASETS.TRAIN[0]), scale=1.2)\n",
    "v = v.draw_instance_predictions(outputs[\"instances\"].to(\"cpu\"))\n",
    "plt.figure(figsize = (14, 10))\n",
    "plt.imshow(cv2.cvtColor(v.get_image()[:, :, ::-1], cv2.COLOR_BGR2RGB))"
   ]
  }
 ],
 "metadata": {
  "accelerator": "GPU",
  "colab": {
   "gpuType": "A100",
   "machine_shape": "hm",
   "provenance": []
  },
  "kernelspec": {
   "display_name": "Python 3",
   "name": "python3"
  },
  "language_info": {
   "name": "python"
  }
 },
 "nbformat": 4,
 "nbformat_minor": 0
}
