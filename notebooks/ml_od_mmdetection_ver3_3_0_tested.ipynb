{
 "cells": [
  {
   "cell_type": "markdown",
   "metadata": {
    "id": "xFA3j06oUHVl"
   },
   "source": [
    "# Tutorial of MMDetection (Version 3.3.0)"
   ]
  },
  {
   "cell_type": "markdown",
   "metadata": {
    "id": "wNjhHIT5XWqr"
   },
   "source": [
    "Please get in touch if interested in our future collaboration of science and/or business!\\\n",
    "Daiphys Technologies LLC - https://www.daiphys.com/"
   ]
  },
  {
   "cell_type": "markdown",
   "metadata": {
    "id": "JmRTsnWIVrIq"
   },
   "source": [
    "## 0. References"
   ]
  },
  {
   "cell_type": "markdown",
   "metadata": {
    "id": "GavwPd71VxbP"
   },
   "source": [
    "- https://github.com/open-mmlab/mmdetection/blob/master/docs/en/get_started.md/\n",
    "- https://mmdetection.readthedocs.io/en/latest/get_started.html\n",
    "- https://mmdetection.readthedocs.io/en/latest/1_exist_data_model.html\n",
    "- https://dev.classmethod.jp/articles/mmdetection-detect-samples/\n",
    "- https://github.com/open-mmlab/mmcv/issues/3059\n",
    "- https://github.com/open-mmlab/mmdetection/issues/10380"
   ]
  },
  {
   "cell_type": "markdown",
   "metadata": {
    "id": "ApanDCxUg4qk"
   },
   "source": [
    "## 1. Preparation"
   ]
  },
  {
   "cell_type": "markdown",
   "metadata": {
    "id": "AvpQlPmXiYqT"
   },
   "source": [
    "### 1.1. Install"
   ]
  },
  {
   "cell_type": "code",
   "execution_count": null,
   "metadata": {
    "colab": {
     "base_uri": "https://localhost:8080/"
    },
    "id": "cCoAUN4yNMBe",
    "outputId": "836c9f9e-6174-4fb2-9034-54ec8faf3951"
   },
   "outputs": [],
   "source": [
    "## Python\n",
    "!python --version"
   ]
  },
  {
   "cell_type": "code",
   "execution_count": null,
   "metadata": {
    "colab": {
     "base_uri": "https://localhost:8080/"
    },
    "id": "fpH0mf-wNPhB",
    "outputId": "ddff2f5d-5e57-49a3-fe03-08ba24c051d1"
   },
   "outputs": [],
   "source": [
    "## PyTorch\n",
    "!python -c 'import torch; print(torch.__version__)'"
   ]
  },
  {
   "cell_type": "code",
   "execution_count": null,
   "metadata": {
    "colab": {
     "base_uri": "https://localhost:8080/"
    },
    "id": "zkq6TtaKDU9S",
    "outputId": "400c3a57-6ce3-4ce9-8572-3ec6c2f60741"
   },
   "outputs": [],
   "source": [
    "## Downgrading PyTorch on Google Colab (2.3.0+cu121) for MMCV Compatibility (2024/07/04)\n",
    "!pip install torch==2.1.0 torchvision==0.16.0 torchaudio==2.1.0 --index-url https://download.pytorch.org/whl/cu121"
   ]
  },
  {
   "cell_type": "code",
   "execution_count": null,
   "metadata": {
    "colab": {
     "base_uri": "https://localhost:8080/"
    },
    "id": "kTt4KF2SEHIY",
    "outputId": "54f837c3-1c56-4a1f-c4c4-01486bb91c11"
   },
   "outputs": [],
   "source": [
    "## PyTorch\n",
    "!python -c 'import torch; print(torch.__version__)'"
   ]
  },
  {
   "cell_type": "code",
   "execution_count": null,
   "metadata": {
    "colab": {
     "base_uri": "https://localhost:8080/"
    },
    "id": "m4jyPxAgNXsO",
    "outputId": "8003be49-8308-4607-9124-5a26e4e83be8"
   },
   "outputs": [],
   "source": [
    "## CUDA\n",
    "!nvcc --version"
   ]
  },
  {
   "cell_type": "code",
   "execution_count": null,
   "metadata": {
    "colab": {
     "base_uri": "https://localhost:8080/"
    },
    "id": "UaMLHK3INbxO",
    "outputId": "d46ea967-fb94-4ee1-f973-14862a65b076"
   },
   "outputs": [],
   "source": [
    "!nvidia-smi"
   ]
  },
  {
   "cell_type": "code",
   "execution_count": null,
   "metadata": {
    "colab": {
     "base_uri": "https://localhost:8080/"
    },
    "id": "-ipdRt5FNuB4",
    "outputId": "4eca9f97-fb84-4d1e-c34a-1026f8fbce93"
   },
   "outputs": [],
   "source": [
    "!apt-get update"
   ]
  },
  {
   "cell_type": "code",
   "execution_count": null,
   "metadata": {
    "colab": {
     "base_uri": "https://localhost:8080/"
    },
    "id": "svPN2hFwSISf",
    "outputId": "a34b3a30-19da-4900-b3a1-138442ea4dcb"
   },
   "outputs": [],
   "source": [
    "## Resolving the dependency conflicts for openmim: ipython 7.9.0 requires jedi>=0.10\n",
    "!pip install --upgrade jedi"
   ]
  },
  {
   "cell_type": "code",
   "execution_count": null,
   "metadata": {
    "colab": {
     "base_uri": "https://localhost:8080/",
     "height": 1000
    },
    "id": "3QQKjixEjEeB",
    "outputId": "2b9a0acf-039e-4026-a014-5c0cc9722b08"
   },
   "outputs": [],
   "source": [
    "!pip install --upgrade openmim\n",
    "## Restarting the runtime after installing openmin"
   ]
  },
  {
   "cell_type": "code",
   "execution_count": null,
   "metadata": {
    "colab": {
     "base_uri": "https://localhost:8080/"
    },
    "id": "HvZWxTRtE8u_",
    "outputId": "54a8f517-cb5b-4b7c-89b7-14e275d3e9e2"
   },
   "outputs": [],
   "source": [
    "!mim install mmengine"
   ]
  },
  {
   "cell_type": "code",
   "execution_count": null,
   "metadata": {
    "colab": {
     "base_uri": "https://localhost:8080/"
    },
    "id": "P3mW16PJNMF6",
    "outputId": "9dd2db4e-95b3-48e2-9b2d-86bc4ae7118d"
   },
   "outputs": [],
   "source": [
    "#!mim install mmcv-full\n",
    "#!mim install mmcv\n",
    "!mim install 'mmcv==2.1.0'"
   ]
  },
  {
   "cell_type": "code",
   "execution_count": null,
   "metadata": {
    "colab": {
     "base_uri": "https://localhost:8080/"
    },
    "id": "ZyAL-tdRORvl",
    "outputId": "f2ee2d09-821a-4473-9060-a91c5e49f6be"
   },
   "outputs": [],
   "source": [
    "!git clone https://github.com/open-mmlab/mmdetection.git"
   ]
  },
  {
   "cell_type": "code",
   "execution_count": null,
   "metadata": {
    "colab": {
     "base_uri": "https://localhost:8080/"
    },
    "id": "-3hA6Fi_Yhl8",
    "outputId": "4ec4d600-f191-4cf2-cf6c-4cec833d17ab"
   },
   "outputs": [],
   "source": [
    "!pip install -v -e mmdetection\n",
    "#!pip install --upgrade mmdet"
   ]
  },
  {
   "cell_type": "code",
   "execution_count": null,
   "metadata": {
    "colab": {
     "base_uri": "https://localhost:8080/"
    },
    "id": "xIeN50e_Yv1B",
    "outputId": "1d0761c3-1c33-4537-95a5-a762122d7597"
   },
   "outputs": [],
   "source": [
    "!python -c 'import mmdet; print(mmdet.__version__)'"
   ]
  },
  {
   "cell_type": "markdown",
   "metadata": {
    "id": "iIQlkVrVh9Lk"
   },
   "source": [
    "### 1.2. Import"
   ]
  },
  {
   "cell_type": "code",
   "execution_count": null,
   "metadata": {
    "id": "yIL0uYPPVsjo"
   },
   "outputs": [],
   "source": [
    "#!pip list\n",
    "#!pip freeze > requirements.txt"
   ]
  },
  {
   "cell_type": "code",
   "execution_count": null,
   "metadata": {
    "id": "4PeIO0XnV-Az"
   },
   "outputs": [],
   "source": [
    "import os\n",
    "import sys\n",
    "import numpy as np\n",
    "import scipy as sp\n",
    "import pandas as pd\n",
    "import cv2\n",
    "import matplotlib\n",
    "import matplotlib.pyplot as plt\n",
    "import pickle\n",
    "import re\n",
    "import csv\n",
    "import math\n",
    "import time\n",
    "import datetime"
   ]
  },
  {
   "cell_type": "code",
   "execution_count": null,
   "metadata": {
    "id": "l_qaThA14qJ5"
   },
   "outputs": [],
   "source": [
    "#from google.colab.patches import cv2_imshow"
   ]
  },
  {
   "cell_type": "code",
   "execution_count": null,
   "metadata": {
    "id": "HAkX02vkEwLY"
   },
   "outputs": [],
   "source": [
    "import base64\n",
    "import IPython"
   ]
  },
  {
   "cell_type": "code",
   "execution_count": null,
   "metadata": {
    "id": "3YCad6acFn3i"
   },
   "outputs": [],
   "source": [
    "from PIL import Image"
   ]
  },
  {
   "cell_type": "code",
   "execution_count": null,
   "metadata": {
    "id": "QhyiQnupFzOa"
   },
   "outputs": [],
   "source": [
    "import torch\n",
    "import torchvision"
   ]
  },
  {
   "cell_type": "code",
   "execution_count": null,
   "metadata": {
    "id": "mWNWsMlqeB5K"
   },
   "outputs": [],
   "source": [
    "sys.path.append('mmdetection')"
   ]
  },
  {
   "cell_type": "code",
   "execution_count": null,
   "metadata": {
    "id": "ZPXxbsVdeKjx"
   },
   "outputs": [],
   "source": [
    "import mmdet"
   ]
  },
  {
   "cell_type": "code",
   "execution_count": null,
   "metadata": {
    "colab": {
     "base_uri": "https://localhost:8080/"
    },
    "id": "w6uraW0RF4k2",
    "outputId": "7366932d-0d34-4174-f77a-a6d8a1298cde"
   },
   "outputs": [],
   "source": [
    "from mmdet.apis import init_detector\n",
    "from mmdet.apis import inference_detector\n",
    "#from mmdet.apis import show_result_pyplot"
   ]
  },
  {
   "cell_type": "code",
   "execution_count": null,
   "metadata": {
    "id": "09pDoEaYGgOW"
   },
   "outputs": [],
   "source": [
    "from mmdet.utils import register_all_modules"
   ]
  },
  {
   "cell_type": "code",
   "execution_count": null,
   "metadata": {
    "id": "LJyN67QxGof2"
   },
   "outputs": [],
   "source": [
    "register_all_modules()"
   ]
  },
  {
   "cell_type": "code",
   "execution_count": null,
   "metadata": {
    "id": "FdH_-d_NG8e6"
   },
   "outputs": [],
   "source": [
    "from mmengine.visualization import Visualizer\n",
    "from mmdet.registry import VISUALIZERS"
   ]
  },
  {
   "cell_type": "code",
   "execution_count": null,
   "metadata": {
    "id": "7UttaTA3fWzb"
   },
   "outputs": [],
   "source": [
    "import mmcv"
   ]
  },
  {
   "cell_type": "code",
   "execution_count": null,
   "metadata": {
    "id": "_hQ_YiCzcyaB"
   },
   "outputs": [],
   "source": [
    "#from mmcv.transforms import Compose"
   ]
  },
  {
   "cell_type": "code",
   "execution_count": null,
   "metadata": {
    "id": "cNMjAFebV-DQ"
   },
   "outputs": [],
   "source": [
    "%matplotlib inline\n",
    "#plt.rcParams['figure.figsize'] = [12, 8]"
   ]
  },
  {
   "cell_type": "markdown",
   "metadata": {
    "id": "EoV7Wf_NkcmP"
   },
   "source": [
    "### 1.3. Setup"
   ]
  },
  {
   "cell_type": "code",
   "execution_count": null,
   "metadata": {
    "id": "Eu9lzZuif0TH"
   },
   "outputs": [],
   "source": [
    "project = 'tutorial'"
   ]
  },
  {
   "cell_type": "code",
   "execution_count": null,
   "metadata": {
    "id": "gLmnulNKk2vB"
   },
   "outputs": [],
   "source": [
    "config_dir = project + '/configs'\n",
    "output_dir = project + '/outputs'\n",
    "checkpoint_dir = project + '/checkpoints'"
   ]
  },
  {
   "cell_type": "code",
   "execution_count": null,
   "metadata": {
    "id": "sopIVMcUGAMF"
   },
   "outputs": [],
   "source": [
    "if torch.cuda.is_available() :\n",
    "    #device = 'cuda'\n",
    "    device = 'cuda:0'\n",
    "else :\n",
    "    device = 'cpu'"
   ]
  },
  {
   "cell_type": "code",
   "execution_count": null,
   "metadata": {
    "colab": {
     "base_uri": "https://localhost:8080/",
     "height": 35
    },
    "id": "wvS3sLSzHY6d",
    "outputId": "4023ef13-753c-4cf2-d5b3-b6f113c72fe8"
   },
   "outputs": [],
   "source": [
    "device"
   ]
  },
  {
   "cell_type": "code",
   "execution_count": null,
   "metadata": {
    "id": "HaXg8EnjgUbq"
   },
   "outputs": [],
   "source": [
    "img = 'mmdetection/demo/demo.jpg'\n",
    "video = 'mmdetection/demo/demo.mp4'"
   ]
  },
  {
   "cell_type": "markdown",
   "metadata": {
    "id": "0SxVxxUKVDeG"
   },
   "source": [
    "## 2. Sample Data with Faster R-CNN"
   ]
  },
  {
   "cell_type": "markdown",
   "metadata": {
    "id": "rZ-Upzftb-vY"
   },
   "source": [
    "### 2.1. Image"
   ]
  },
  {
   "cell_type": "code",
   "execution_count": null,
   "metadata": {
    "colab": {
     "base_uri": "https://localhost:8080/"
    },
    "id": "2wJDKjbxPPWi",
    "outputId": "e7ceeccf-22a4-4772-dd57-a834bea66127"
   },
   "outputs": [],
   "source": [
    "## https://github.com/open-mmlab/mmdetection/tree/main/configs/faster_rcnn\n",
    "#!mim download mmdet --config faster_rcnn_r50_fpn_1x_coco --dest $config_dir\n",
    "!mim download mmdet --config faster-rcnn_r50_fpn_1x_coco --dest $config_dir"
   ]
  },
  {
   "cell_type": "code",
   "execution_count": null,
   "metadata": {
    "id": "Ea2YSyL_pHyH"
   },
   "outputs": [],
   "source": [
    "#config_file = config_dir + '/faster_rcnn_r50_fpn_1x_coco.py'\n",
    "config_file = config_dir + '/faster-rcnn_r50_fpn_1x_coco.py'\n",
    "checkpoint_file = config_dir + '/faster_rcnn_r50_fpn_1x_coco_20200130-047c8118.pth'"
   ]
  },
  {
   "cell_type": "code",
   "execution_count": null,
   "metadata": {
    "colab": {
     "base_uri": "https://localhost:8080/"
    },
    "id": "Ovw_eTayrM4m",
    "outputId": "42850bfd-b690-4fd7-f98c-fcc705d760f1"
   },
   "outputs": [],
   "source": [
    "model = init_detector(config_file, checkpoint_file, device=device)"
   ]
  },
  {
   "cell_type": "code",
   "execution_count": null,
   "metadata": {
    "id": "dxXKTMr_Jw_k"
   },
   "outputs": [],
   "source": [
    "#model.dataset_meta"
   ]
  },
  {
   "cell_type": "code",
   "execution_count": null,
   "metadata": {
    "colab": {
     "base_uri": "https://localhost:8080/"
    },
    "id": "pLD4ymakmp4j",
    "outputId": "adddc3a2-0e0b-4f94-ccfc-4bfabe9136e6"
   },
   "outputs": [],
   "source": [
    "%%time\n",
    "result = inference_detector(model, img)"
   ]
  },
  {
   "cell_type": "code",
   "execution_count": null,
   "metadata": {
    "colab": {
     "base_uri": "https://localhost:8080/"
    },
    "id": "xy42aCrTJj3t",
    "outputId": "754ec982-5c37-45d7-db32-8935600c1e10"
   },
   "outputs": [],
   "source": [
    "result.pred_instances.scores\n",
    "#result.pred_instances.labels\n",
    "#result.pred_instances.bboxes"
   ]
  },
  {
   "cell_type": "code",
   "execution_count": null,
   "metadata": {
    "id": "49tXPhtnreyS"
   },
   "outputs": [],
   "source": [
    "## model.show_result was removed after MMDetection version 2 (2024/07/04)\n",
    "#model.show_result(img, result)\n",
    "#model.show_result(img, result, out_file=output_dir + '/faster-rcnn_r50_fpn_1x_coco_result.jpg')"
   ]
  },
  {
   "cell_type": "code",
   "execution_count": null,
   "metadata": {
    "id": "x0DtSDZAm7wT"
   },
   "outputs": [],
   "source": [
    "## show_result_pyplot was removed after MMDetection version 2 (2024/07/04)\n",
    "#show_result_pyplot(model, img, result, score_thr=0.50)"
   ]
  },
  {
   "cell_type": "code",
   "execution_count": null,
   "metadata": {
    "id": "8RrbXwTNKTS4"
   },
   "outputs": [],
   "source": [
    "#image = mmcv.imread(img)\n",
    "image = mmcv.imread(img, channel_order='rgb')\n",
    "#image = mmcv.imconvert(image, 'bgr', 'rgb')"
   ]
  },
  {
   "cell_type": "code",
   "execution_count": null,
   "metadata": {
    "colab": {
     "base_uri": "https://localhost:8080/"
    },
    "id": "vAkZghtWOXu1",
    "outputId": "c5ec62c9-e845-460f-999b-5d1e542b0994"
   },
   "outputs": [],
   "source": [
    "## Visualization Option A for MMDetection version 3\n",
    "visualizer = VISUALIZERS.build(model.cfg.visualizer)\n",
    "visualizer.dataset_meta = model.dataset_meta\n",
    "visualizer.add_datasample('result', image, data_sample=result, draw_gt=False, show=True, wait_time=0, pred_score_thr=0.70, out_file=output_dir + '/faster-rcnn_r50_fpn_1x_coco_result_01.jpg')"
   ]
  },
  {
   "cell_type": "code",
   "execution_count": null,
   "metadata": {
    "colab": {
     "base_uri": "https://localhost:8080/",
     "height": 464
    },
    "id": "ri2Q2VKbPA1n",
    "outputId": "8ce9fe6c-7c6e-4cb6-d93e-5be70deed9be"
   },
   "outputs": [],
   "source": [
    "visualizer.show()\n",
    "#visualizer.get_image()"
   ]
  },
  {
   "cell_type": "code",
   "execution_count": null,
   "metadata": {
    "colab": {
     "base_uri": "https://localhost:8080/"
    },
    "id": "wJ20Q60uP5Wt",
    "outputId": "a8de53e8-79ad-4cb1-e76e-6bf3393d7106"
   },
   "outputs": [],
   "source": [
    "## Visualization Option B for MMDetection version 3\n",
    "pred_score_thr = 0.70\n",
    "scores = result.pred_instances.scores[torch.where(result.pred_instances.scores>=pred_score_thr)]\n",
    "labels = result.pred_instances.labels[torch.where(result.pred_instances.scores>=pred_score_thr)]\n",
    "bboxes = result.pred_instances.bboxes[torch.where(result.pred_instances.scores>=pred_score_thr)]\n",
    "labels_classes = list(map(lambda x: model.dataset_meta['classes'][x], labels.tolist()))\n",
    "labels_palette = list(map(lambda x: model.dataset_meta['palette'][x], labels.tolist()))\n",
    "labels_print = list(map(lambda x, y: f'{x}: {(y * 100.0):.1f}', labels_classes, scores.tolist()))\n",
    "bboxes_origins = list(map(lambda x: [x[0], x[1]], bboxes.tolist()))\n",
    "visualizer = Visualizer(image=image)\n",
    "visualizer.draw_bboxes(bboxes, edge_colors=labels_palette, line_widths=3)\n",
    "visualizer.draw_texts(labels_print, torch.tensor(bboxes_origins), font_sizes=8, colors='white', bboxes=dict(facecolor='red', edgecolor='black', linewidth=0, alpha=0.8))"
   ]
  },
  {
   "cell_type": "code",
   "execution_count": null,
   "metadata": {
    "colab": {
     "base_uri": "https://localhost:8080/",
     "height": 464
    },
    "id": "nFD11jzrSJf1",
    "outputId": "eb16d778-3f0a-4e73-9e19-6b11abc9fbf4"
   },
   "outputs": [],
   "source": [
    "visualizer.show()\n",
    "#visualizer.get_image()"
   ]
  },
  {
   "cell_type": "code",
   "execution_count": null,
   "metadata": {
    "colab": {
     "base_uri": "https://localhost:8080/"
    },
    "id": "pKsBg6V6Y3_L",
    "outputId": "55f3440f-4252-4673-8689-d7bbe1cffafe"
   },
   "outputs": [],
   "source": [
    "cv2.imwrite(output_dir + '/faster-rcnn_r50_fpn_1x_coco_result_02.jpg', cv2.cvtColor(visualizer.get_image(), cv2.COLOR_RGB2BGR))"
   ]
  },
  {
   "cell_type": "markdown",
   "metadata": {
    "id": "PQbBbI41bzOW"
   },
   "source": [
    "### 2.2. Video"
   ]
  },
  {
   "cell_type": "code",
   "execution_count": null,
   "metadata": {
    "id": "5khAPaNglOfw"
   },
   "outputs": [],
   "source": [
    "#model.cfg.test_dataloader.dataset.pipeline[0].type = 'LoadImageFromNDArray'\n",
    "#test_pipeline = Compose(model.cfg.test_dataloader.dataset.pipeline)"
   ]
  },
  {
   "cell_type": "code",
   "execution_count": null,
   "metadata": {
    "colab": {
     "base_uri": "https://localhost:8080/"
    },
    "id": "8UbVQAgLlXu-",
    "outputId": "24ef1fb4-7f08-45aa-d67f-42a8c80c6542"
   },
   "outputs": [],
   "source": [
    "visualizer = VISUALIZERS.build(model.cfg.visualizer)\n",
    "visualizer.dataset_meta = model.dataset_meta"
   ]
  },
  {
   "cell_type": "code",
   "execution_count": null,
   "metadata": {
    "id": "HMkgfXKZlu8b"
   },
   "outputs": [],
   "source": [
    "video_reader = mmcv.VideoReader(video)"
   ]
  },
  {
   "cell_type": "code",
   "execution_count": null,
   "metadata": {
    "id": "zKaHYelglz2p"
   },
   "outputs": [],
   "source": [
    "fourcc = cv2.VideoWriter_fourcc(*'mp4v')"
   ]
  },
  {
   "cell_type": "code",
   "execution_count": null,
   "metadata": {
    "id": "ozjDYv5Wl9lh"
   },
   "outputs": [],
   "source": [
    "video_writer = cv2.VideoWriter(output_dir + '/faster_rcnn_r50_fpn_1x_coco_result.mp4', fourcc, video_reader.fps, (video_reader.width, video_reader.height))"
   ]
  },
  {
   "cell_type": "code",
   "execution_count": null,
   "metadata": {
    "colab": {
     "base_uri": "https://localhost:8080/"
    },
    "id": "6e2QNrBLnBGy",
    "outputId": "36cf837e-6d7f-4cb9-ead4-f1fdd658081d"
   },
   "outputs": [],
   "source": [
    "for frame in video_reader :\n",
    "    #frame = cv2.rotate(frame, cv2.ROTATE_180)\n",
    "    result = inference_detector(model, frame)\n",
    "    #frame = model.show_result(frame, result, score_thr=0.90)\n",
    "    visualizer.add_datasample('video', frame, data_sample=result, draw_gt=False, show=False, wait_time=0, pred_score_thr=0.90)\n",
    "    frame = visualizer.get_image()\n",
    "    video_writer.write(frame)"
   ]
  },
  {
   "cell_type": "code",
   "execution_count": null,
   "metadata": {
    "id": "ToJz3gW3nBG0"
   },
   "outputs": [],
   "source": [
    "video_writer.release()"
   ]
  },
  {
   "cell_type": "code",
   "execution_count": null,
   "metadata": {
    "colab": {
     "base_uri": "https://localhost:8080/",
     "height": 158
    },
    "id": "yd2jm1fJnBG0",
    "outputId": "d4ddb60a-3590-40bc-f1f6-b2803cd4849c"
   },
   "outputs": [],
   "source": [
    "cv2.destroyAllWindows()"
   ]
  },
  {
   "cell_type": "code",
   "execution_count": null,
   "metadata": {
    "id": "7RCPra2jnBG0"
   },
   "outputs": [],
   "source": [
    "mp4_data = open(output_dir + '/faster_rcnn_r50_fpn_1x_coco_result.mp4', 'rb').read()"
   ]
  },
  {
   "cell_type": "code",
   "execution_count": null,
   "metadata": {
    "id": "9kXvYVwFnBG1"
   },
   "outputs": [],
   "source": [
    "mp4_url = 'data:video/mp4;base64,' + base64.b64encode(mp4_data).decode()\n",
    "mp4_html = '<video width=400 controls><source src=\"{mp4_url}\" type=\"video/mp4\"></video>'"
   ]
  },
  {
   "cell_type": "code",
   "execution_count": null,
   "metadata": {
    "colab": {
     "base_uri": "https://localhost:8080/",
     "height": 221,
     "resources": {
      "http://localhost:8080/%7Bmp4_url%7D": {
       "data": "",
       "headers": [
        [
         "content-length",
         "0"
        ]
       ],
       "ok": false,
       "status": 404,
       "status_text": ""
      }
     }
    },
    "id": "fpvjsW6FnBG1",
    "outputId": "5e88e643-5a8f-42e6-b84a-8f9b2f0f7acd"
   },
   "outputs": [],
   "source": [
    "IPython.display.HTML(mp4_html)"
   ]
  }
 ],
 "metadata": {
  "accelerator": "GPU",
  "colab": {
   "gpuType": "L4",
   "machine_shape": "hm",
   "provenance": []
  },
  "kernelspec": {
   "display_name": "Python 3",
   "name": "python3"
  },
  "language_info": {
   "name": "python"
  }
 },
 "nbformat": 4,
 "nbformat_minor": 0
}
