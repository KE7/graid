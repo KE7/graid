{
 "cells": [
  {
   "cell_type": "code",
   "execution_count": null,
   "id": "a579318d",
   "metadata": {},
   "outputs": [],
   "source": [
    "import cv2\n",
    "import torch\n",
    "from graid.models.MMDetection import MMdetection_obj"
   ]
  },
  {
   "cell_type": "code",
   "execution_count": null,
   "id": "186f982d",
   "metadata": {},
   "outputs": [],
   "source": [
    "model = MMdetection_obj(\n",
    "    config_file=...,\n",
    "    checkpoint_file=...\n",
    ")"
   ]
  },
  {
   "cell_type": "code",
   "execution_count": null,
   "id": "0b36b924",
   "metadata": {},
   "outputs": [],
   "source": [
    "def eval(results):\n",
    "    for idx, i in enumerate(results[:2]):\n",
    "        print(f\"Image {idx+1}\")\n",
    "        print(f\"    Detected {len(i)} objects\")\n",
    "        for j in i[:4]:\n",
    "            print(f\"        label={j.label}, bbox={j.as_xyxy()}, score={j.score}\")\n",
    "        if len(i) > 4:\n",
    "            print(\"        ...\")\n",
    "    if len(results) > 2:\n",
    "        print(\"    ...\")"
   ]
  },
  {
   "cell_type": "code",
   "execution_count": null,
   "id": "746f1595",
   "metadata": {},
   "outputs": [],
   "source": [
    "im_path = ...\n",
    "\n",
    "# str\n",
    "eval(model.identify_for_image(im_path))\n",
    "\n",
    "# numpy.ndarray\n",
    "import cv2\n",
    "np_im = cv2.imread(im_path)\n",
    "eval(model.identify_for_image(np_im))\n",
    "\n",
    "# torch.Tensor\n",
    "torch_im = torch.from_numpy(np_im)\n",
    "eval(model.identify_for_image(torch_im))"
   ]
  },
  {
   "cell_type": "code",
   "execution_count": null,
   "id": "5f3eb7b4",
   "metadata": {},
   "outputs": [],
   "source": [
    "im_dir = ...\n",
    "im1_path = ...\n",
    "im2_path = ...\n",
    "\n",
    "# str\n",
    "eval(model.identify_for_image_batch(im_dir, batch_size=2))\n",
    "\n",
    "# list[str]\n",
    "eval(model.identify_for_image_batch([im1_path, im2_path], batch_size=2))\n",
    "\n",
    "# list[numpy.ndarray]\n",
    "np_im1 = cv2.imread(im1_path)\n",
    "np_im2 = cv2.imread(im2_path)\n",
    "eval(model.identify_for_image_batch([np_im1, np_im2], batch_size=2))\n",
    "\n",
    "# list[str]\n",
    "torch_im1 = torch.from_numpy(np_im1)\n",
    "torch_im2 = torch.from_numpy(np_im2)\n",
    "eval(model.identify_for_image_batch([torch_im1, torch_im2], batch_size=2))"
   ]
  }
 ],
 "metadata": {
  "kernelspec": {
   "display_name": "scenic_reason",
   "language": "python",
   "name": "python3"
  },
  "language_info": {
   "codemirror_mode": {
    "name": "ipython",
    "version": 3
   },
   "file_extension": ".py",
   "mimetype": "text/x-python",
   "name": "python",
   "nbconvert_exporter": "python",
   "pygments_lexer": "ipython3",
   "version": "3.9.23"
  }
 },
 "nbformat": 4,
 "nbformat_minor": 5
}
