{
 "cells": [
  {
   "cell_type": "markdown",
   "metadata": {},
   "source": [
    "# Prerequisites for getting permission to download the Waymo Open Dataset\n",
    "\n",
    "1. Visit the [Waymo Open Dataset website](https://waymo.com/open/).\n",
    "2. Click the \"Download\" button. If you never downloaded the dataset before, you will be prompted to accept the license and sign up for an account.\n",
    "3. After signing up, scoll down to the bottom of the page and you will be presented with 3 options: Motion Dataset, Perception Dataset with maps, and Perception Dataset Modular without maps. We use the Perception Dataset Modular without maps.\n",
    "4. Click the corresponding \"Download\" button.\n",
    "5. This will redirect you to Google Cloud where again you will have to sign in. \n",
    "6. By now you should be at a link like this: https://console.cloud.google.com/storage/browser/waymo_open_dataset_v_2_0_1;tab=objects\n",
    "7. If you can see the list of files, then you have the appropriate permissions.\n",
    "\n",
    "Now you can run the following commands to download the dataset splits. You do not need to download the entire dataset but only the splits you need."
   ]
  },
  {
   "cell_type": "markdown",
   "metadata": {},
   "source": [
    "### Installing the Google Cloud SDK"
   ]
  },
  {
   "cell_type": "code",
   "execution_count": null,
   "metadata": {},
   "outputs": [],
   "source": [
    "import platform\n",
    "import shutil\n",
    "import subprocess\n",
    "\n",
    "if shutil.which('gcloud') is not None:\n",
    "    print('Google Cloud SDK is already installed.')\n",
    "else:\n",
    "    print('Google Cloud SDK is not installed.')\n",
    "    \n",
    "    if platform.system() == 'Windows':\n",
    "        print('Installing Google Cloud SDK on Windows is a bit tricky, please refer to https://cloud.google.com/sdk/docs/install#windows')\n",
    "    elif platform.system() == 'Darwin':\n",
    "        print('Installing Google Cloud SDK on mac assuming that you have Homebrew installed')\n",
    "        subprocess.run(['brew', 'install', '--cask', 'google-cloud-sdk'])\n",
    "    elif platform.system() == 'Linux':\n",
    "        print('Installing Google Cloud SDK on Linux (Debian/Ubuntu) assuming that you have snap installed')\n",
    "        subprocess.run(['sudo', 'apt-get', 'purge', '--auto-remove', 'gsutil'])\n",
    "        subprocess.run(['sudo', 'snap', 'install', 'google-cloud-sdk', '--classic'])"
   ]
  },
  {
   "cell_type": "markdown",
   "metadata": {},
   "source": [
    "### Logging into Google Cloud"
   ]
  },
  {
   "cell_type": "code",
   "execution_count": null,
   "metadata": {},
   "outputs": [],
   "source": []
  },
  {
   "cell_type": "code",
   "execution_count": null,
   "metadata": {},
   "outputs": [],
   "source": [
    "!gcloud auth login"
   ]
  },
  {
   "cell_type": "markdown",
   "metadata": {},
   "source": [
    "### Downloading the splits"
   ]
  },
  {
   "cell_type": "code",
   "execution_count": null,
   "metadata": {},
   "outputs": [],
   "source": [
    "# Uncomment the subset of data you want to download\n",
    "\n",
    "# !gsutil -m cp -r \\\n",
    "  # \"gs://waymo_open_dataset_v_2_0_1/testing\" \\ # 9.6 GiB\n",
    "  # \"gs://waymo_open_dataset_v_2_0_1/testing_location\" \\ # 79.3 GiB\n",
    "  # \"gs://waymo_open_dataset_v_2_0_1/training\" \\ # 463.4 GiB\n",
    "  # \"gs://waymo_open_dataset_v_2_0_1/validation\" \\ # 119.8 GiB\n",
    "  # .\n",
    "\n",
    "!mkdir -p ../data/waymo_open_dataset_v_2_0_1\n",
    "!gsutil -m cp -r \\\n",
    "  \"gs://waymo_open_dataset_v_2_0_1/testing\" \\\n",
    "  .\n",
    "\n",
    "!mv testing ../data/waymo_open_dataset_v_2_0_1\n",
    "\n",
    "print('Download complete.')"
   ]
  }
 ],
 "metadata": {
  "kernelspec": {
   "display_name": "mmdect",
   "language": "python",
   "name": "python3"
  },
  "language_info": {
   "codemirror_mode": {
    "name": "ipython",
    "version": 3
   },
   "file_extension": ".py",
   "mimetype": "text/x-python",
   "name": "python",
   "nbconvert_exporter": "python",
   "pygments_lexer": "ipython3",
   "version": "3.9.20"
  }
 },
 "nbformat": 4,
 "nbformat_minor": 2
}
