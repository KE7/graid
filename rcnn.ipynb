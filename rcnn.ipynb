{
 "cells": [
  {
   "cell_type": "code",
   "execution_count": null,
   "id": "7a79569a",
   "metadata": {},
   "outputs": [],
   "source": [
    "from graid.models.MMDetection import MMdetection_seg"
   ]
  },
  {
   "cell_type": "code",
   "execution_count": null,
   "id": "ae1b4ee3",
   "metadata": {},
   "outputs": [],
   "source": [
    "import os, mmdet\n",
    "\n",
    "pkg_dir = os.path.dirname(mmdet.__file__)\n",
    "config_gile = os.path.join(\n",
    "    pkg_dir, '.mim', 'configs',\n",
    "    'mask_rcnn',\n",
    "    'mask-rcnn_x101-64x4d_fpn_1x_coco.py'\n",
    ")\n",
    "checkpoint_file = './downloads/mask_rcnn/mask_rcnn_x101_64x4d_fpn_1x_coco_20200201-9352eb0d.pth'\n",
    "\n",
    "model = MMdetection_seg(\n",
    "    config_file=config_gile,\n",
    "    checkpoint_file=checkpoint_file\n",
    ")"
   ]
  },
  {
   "cell_type": "code",
   "execution_count": null,
   "id": "84f822af",
   "metadata": {},
   "outputs": [],
   "source": [
    "im_path = 'demo/demo.jpg'\n",
    "out = model.identify_for_image(im_path)"
   ]
  }
 ],
 "metadata": {
  "kernelspec": {
   "display_name": "scenic_reason",
   "language": "python",
   "name": "python3"
  },
  "language_info": {
   "codemirror_mode": {
    "name": "ipython",
    "version": 3
   },
   "file_extension": ".py",
   "mimetype": "text/x-python",
   "name": "python",
   "nbconvert_exporter": "python",
   "pygments_lexer": "ipython3",
   "version": "3.9.23"
  }
 },
 "nbformat": 4,
 "nbformat_minor": 5
}
